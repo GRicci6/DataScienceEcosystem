{
 "cells": [
  {
   "cell_type": "markdown",
   "id": "5e205c83-2c9b-482c-954d-b4d528d40e6b",
   "metadata": {},
   "source": [
    "# Data Science Tools and Ecosystem\n"
   ]
  },
  {
   "cell_type": "markdown",
   "id": "8b329314-8c63-4780-a791-051659c8233b",
   "metadata": {},
   "source": [
    "In this notebook, Data Science Tools and Ecosystem are summarized."
   ]
  },
  {
   "cell_type": "markdown",
   "id": "5ab84b0f-a580-45eb-b7b2-aa884699a099",
   "metadata": {},
   "source": [
    "Some of the popular languages that Data Scientists use are:\n",
    "\n",
    "1. Python\n",
    "2. SQL\n",
    "3. R\n",
    "4. Scala\n",
    "5. Julia\n"
   ]
  },
  {
   "cell_type": "markdown",
   "id": "36be7bd2-64d0-48da-b383-3d2219e71672",
   "metadata": {},
   "source": [
    "Some of the commonly used libraries used by Data Scientists include:\n",
    "\n",
    "1. NumPy\n",
    "2. Matplotlib\n",
    "3. Pandas\n",
    "4. TensorFlow\n"
   ]
  },
  {
   "cell_type": "markdown",
   "id": "5d1b9eec-d6fb-4d21-9a29-817d132ec72b",
   "metadata": {},
   "source": [
    "| Data Science Tools |\n",
    "|--------------------|\n",
    "| Jupyter Notebook    |\n",
    "| RStudio             |\n",
    "| Spyder              |\n"
   ]
  },
  {
   "cell_type": "markdown",
   "id": "aff10c32-1d66-42c1-8ef2-29e329ac150b",
   "metadata": {},
   "source": [
    "### Below are a few examples of evaluating arithmetic expressions in Python.\n"
   ]
  },
  {
   "cell_type": "code",
   "execution_count": 1,
   "id": "d2b4919b-7d6d-47c5-9bf6-b1d9d8457282",
   "metadata": {
    "tags": []
   },
   "outputs": [
    {
     "data": {
      "text/plain": [
       "17"
      ]
     },
     "execution_count": 1,
     "metadata": {},
     "output_type": "execute_result"
    }
   ],
   "source": [
    "# This is a simple arithmetic expression to multiply then add integers\n",
    "(3*4) + 5\n"
   ]
  },
  {
   "cell_type": "code",
   "execution_count": 2,
   "id": "dff93c60-70d2-465d-9145-503d1106ab11",
   "metadata": {
    "tags": []
   },
   "outputs": [
    {
     "data": {
      "text/plain": [
       "3.3333333333333335"
      ]
     },
     "execution_count": 2,
     "metadata": {},
     "output_type": "execute_result"
    }
   ],
   "source": [
    "# This will convert 200 minutes to hours by dividing by 60\n",
    "200 / 60\n"
   ]
  },
  {
   "cell_type": "markdown",
   "id": "51509ef1-0ced-4b81-9c29-0d4ade463492",
   "metadata": {},
   "source": [
    "**Objectives:**\n",
    "\n",
    "- Overview of Data Science Tools.\n",
    "- Languages of Data Science.\n",
    "- Libraries for Data Science.\n",
    "- Jupyter Notebook.\n",
    "- RStudio and GitHub.\n"
   ]
  },
  {
   "cell_type": "markdown",
   "id": "f032ef34-a766-448d-a505-3421cc7517df",
   "metadata": {},
   "source": [
    "## Author\n",
    "\n",
    "GiuliaR\n"
   ]
  },
  {
   "cell_type": "code",
   "execution_count": null,
   "id": "f25d2f70-a0d3-48f1-8787-84da62034ab2",
   "metadata": {},
   "outputs": [],
   "source": []
  }
 ],
 "metadata": {
  "kernelspec": {
   "display_name": "Python",
   "language": "python",
   "name": "conda-env-python-py"
  },
  "language_info": {
   "codemirror_mode": {
    "name": "ipython",
    "version": 3
   },
   "file_extension": ".py",
   "mimetype": "text/x-python",
   "name": "python",
   "nbconvert_exporter": "python",
   "pygments_lexer": "ipython3",
   "version": "3.7.12"
  }
 },
 "nbformat": 4,
 "nbformat_minor": 5
}
